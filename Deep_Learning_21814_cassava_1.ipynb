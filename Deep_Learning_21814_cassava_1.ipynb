{
  "nbformat": 4,
  "nbformat_minor": 0,
  "metadata": {
    "accelerator": "GPU",
    "colab": {
      "provenance": [],
      "machine_shape": "hm"
    },
    "kernelspec": {
      "display_name": "Python 3",
      "name": "python3"
    }
  },
  "cells": [
    {
      "cell_type": "code",
      "metadata": {
        "colab": {
          "base_uri": "https://localhost:8080/"
        },
        "id": "3NCuQ7rfUMCt",
        "outputId": "adaa1aad-c343-4c69-988d-343edb431bb1"
      },
      "source": [
        "# import packages\n",
        "import math, re, os, random, cv2\n",
        "import tensorflow as tf\n",
        "import numpy as np\n",
        "import pandas as pd\n",
        "import matplotlib.pyplot as plt\n",
        "from tensorflow import keras\n",
        "from functools import partial\n",
        "from sklearn.model_selection import train_test_split\n",
        "print(\"Tensorflow version \" + tf.__version__)"
      ],
      "execution_count": null,
      "outputs": [
        {
          "output_type": "stream",
          "name": "stdout",
          "text": [
            "Tensorflow version 2.12.0\n"
          ]
        }
      ]
    },
    {
      "cell_type": "code",
      "metadata": {
        "colab": {
          "base_uri": "https://localhost:8080/"
        },
        "id": "6OiXUj63335k",
        "outputId": "4937e700-f63f-4a7f-a04e-fe94aad53337"
      },
      "source": [
        "# testing TPU\n",
        "try:\n",
        "    tpu = tf.distribute.cluster_resolver.TPUClusterResolver()\n",
        "    print('Device:', tpu.master())\n",
        "    tf.config.experimental_connect_to_cluster(tpu)\n",
        "    tf.tpu.experimental.initialize_tpu_system(tpu)\n",
        "    strategy = tf.distribute.experimental.TPUStrategy(tpu)\n",
        "except:\n",
        "    strategy = tf.distribute.get_strategy()\n",
        "print('Number of replicas:', strategy.num_replicas_in_sync)"
      ],
      "execution_count": null,
      "outputs": [
        {
          "output_type": "stream",
          "name": "stdout",
          "text": [
            "Number of replicas: 1\n"
          ]
        }
      ]
    },
    {
      "cell_type": "code",
      "metadata": {
        "id": "u3weuHqT359X"
      },
      "source": [
        "# setting hyperparameters\n",
        "\n",
        "# AUTOTUNE: a value used for configuring the tf.data pipeline, which\n",
        "# automatically adjusts the number of parallel processing units based on\n",
        "# available system resources.\n",
        "AUTOTUNE = tf.data.experimental.AUTOTUNE\n",
        "\n",
        "# BATCH_SIZE: the number of training examples to process in each batch.\n",
        "# The batch size is multiplied by the number of replicas in sync, which\n",
        "# determines the number of TPU cores used for training.\n",
        "BATCH_SIZE = 16 * strategy.num_replicas_in_sync\n",
        "\n",
        "# IMAGE_SIZE: the desired size of the input images for training the model.\n",
        "# In this case, the images will be resized to 224x224 pixels.\n",
        "IMAGE_SIZE = [224, 224]\n",
        "\n",
        "# CLASSES: a list of class labels for the classification task.\n",
        "CLASSES = ['0', '1', '2', '3', '4']\n",
        "\n",
        "# EPOCHS: the number of times the entire training dataset will be used to train\n",
        "# the model. This is set to 100 in this case, but it may be changed for\n",
        "# different experiments.\n",
        "EPOCHS = 100 # Dear God, this has to be different if we're testing it\n",
        "EPOCHS5 = 5 # Alternative with only 5\n",
        "EPOCHS3 = 20 # Alternative with only 3\n",
        "\n",
        "# LR: the learning rate used by the optimizer during training. A learning rate\n",
        "# of 0.0001 is set for this experiment, but it can be tuned for optimal results\n",
        "# A desirable learning rate is one that's low enough so that the network\n",
        "# converges to something useful but high enough so that it can be trained in a\n",
        "# reasonable amount of time\n",
        "LR = 0.0001"
      ],
      "execution_count": null,
      "outputs": []
    },
    {
      "cell_type": "code",
      "source": [
        "# Why we have set the image size as 224x224\n",
        "\n",
        "# The ResNet-50 model takes an input image of size 224x224 pixels, with 3 color\n",
        "# channels (RGB). This input size is defined by the input layer of the model,\n",
        "# which expects a tensor of shape (batch_size, 224, 224, 3).\n",
        "\n",
        "# ResNet-50 is a convolutional neural network architecture that was originally\n",
        "# proposed for the ImageNet Large Scale Visual Recognition Challenge in 2015.\n",
        "# The model consists of 50 layers and is known for its skip connections, which\n",
        "# help to address the vanishing gradient problem that can occur in deep neural\n",
        "# networks.\n",
        "\n",
        "# While the input image size for ResNet-50 is fixed at 224x224, the output of\n",
        "# the model can vary depending on the specific task being performed.\n",
        "# For example, in a classification task with 1000 classes, the output of the\n",
        "# model would be a probability distribution over the 1000 classes, represented\n",
        "# as a tensor of shape (batch_size, 1000)."
      ],
      "metadata": {
        "id": "OOXDCPwnQmhd"
      },
      "execution_count": null,
      "outputs": []
    },
    {
      "cell_type": "code",
      "metadata": {
        "colab": {
          "base_uri": "https://localhost:8080/"
        },
        "id": "wykYnGJe5XB4",
        "outputId": "20585484-83a3-4831-b81d-381a4bf6783c"
      },
      "source": [
        "# mount drive\n",
        "from google.colab import drive\n",
        "drive.mount(\"/content/drive\", force_remount=True)"
      ],
      "execution_count": null,
      "outputs": [
        {
          "output_type": "stream",
          "name": "stdout",
          "text": [
            "Mounted at /content/drive\n"
          ]
        }
      ]
    },
    {
      "cell_type": "code",
      "metadata": {
        "id": "u3bVDLFC5bro"
      },
      "source": [
        "# Change this to what your path is in Google Drive\n",
        "path = \"/content/drive/MyDrive/00_MIS_548/cassava-leaf-disease-classification\""
      ],
      "execution_count": null,
      "outputs": []
    },
    {
      "cell_type": "code",
      "metadata": {
        "id": "1ZVqhXsYxl2l"
      },
      "source": [
        "# split data into training and validation data\n",
        "training_filenames, valid_filenames = train_test_split(\n",
        "    tf.io.gfile.glob(path + '/train_tfrecords/ld_train*.tfrec'),\n",
        "    test_size=0.2, random_state=5\n",
        ")"
      ],
      "execution_count": null,
      "outputs": []
    },
    {
      "cell_type": "code",
      "metadata": {
        "id": "XgR2JTi139mZ"
      },
      "source": [
        "# define functions to process TFRecords data using below website\n",
        "# https://www.kaggle.com/jsmithperera/cassava-inference\n",
        "\n",
        "# tf.image.decode_jpeg: decodes a JPEG-encoded image to a 3D tensor with dtype\n",
        "# uint8.\n",
        "# tf.cast: converts the image tensor to float32 dtype.\n",
        "# Division by 255: Scales the pixel values from the range [0, 255] to [0, 1].\n",
        "# This is a common preprocessing step for image data to ensure that all pixel\n",
        "# values are within the same range, which can help the model learn more\n",
        "# effectively.\n",
        "# tf.image.resize: resizes the image tensor to the desired IMAGE_SIZE, which is\n",
        "# set to [224, 224] in this case.\n",
        "# tf.reshape: reshapes the tensor to have 3 color channels. The shape of the\n",
        "# tensor will be [224, 224, 3].\n",
        "# This function is typically applied to a batch of input images using the\n",
        "# tf.data pipeline during training. It can help to ensure that all input images\n",
        "# are consistently preprocessed in the same way, which can improve the\n",
        "# performance of the model.\n",
        "\n",
        "def decode_image(image):\n",
        "    image = tf.image.decode_jpeg(image, channels=3)\n",
        "    image = tf.cast(image, tf.float32) / 255.0\n",
        "    image = tf.image.resize(image, IMAGE_SIZE)\n",
        "    image = tf.reshape(image, [*IMAGE_SIZE, 3])\n",
        "    return image\n",
        "\n",
        "def read_tfrecord(example, labeled):\n",
        "    tfrecord_format = {\n",
        "        \"image\": tf.io.FixedLenFeature([], tf.string),\n",
        "        \"target\": tf.io.FixedLenFeature([], tf.int64)\n",
        "    } if labeled else {\n",
        "        \"image\": tf.io.FixedLenFeature([], tf.string),\n",
        "        \"image_name\": tf.io.FixedLenFeature([], tf.string)\n",
        "    }\n",
        "    example = tf.io.parse_single_example(example, tfrecord_format)\n",
        "    image = decode_image(example['image'])\n",
        "    if labeled:\n",
        "        label = tf.cast(example['target'], tf.int32)\n",
        "        return image, label\n",
        "    idnum = example['image_name']\n",
        "    return image, idnum\n",
        "\n",
        "def load_dataset(filenames, labeled=True, ordered=False):\n",
        "    ignore_order = tf.data.Options()\n",
        "    if not ordered:\n",
        "        ignore_order.experimental_deterministic = False # disable order, increase speed\n",
        "    dataset = tf.data.TFRecordDataset(filenames, num_parallel_reads=AUTOTUNE) # automatically interleaves reads from multiple files\n",
        "    dataset = dataset.with_options(ignore_order) # uses data as soon as it streams in, rather than in its original order\n",
        "    dataset = dataset.map(partial(read_tfrecord, labeled=labeled), num_parallel_calls=AUTOTUNE)\n",
        "    return dataset\n",
        "\n",
        "def data_augment(image, label):\n",
        "    image = tf.image.random_brightness(image, max_delta=0.5)\n",
        "    image = tf.image.random_hue(image, 0.08)\n",
        "    image = tf.image.random_saturation(image, 0.8, 1.2)\n",
        "    image = tf.image.random_contrast(image, 0.8, 1.2)\n",
        "    return image, label"
      ],
      "execution_count": null,
      "outputs": []
    },
    {
      "cell_type": "code",
      "metadata": {
        "id": "oONWd-85C78r"
      },
      "source": [
        "# functions to get training, validation, and testing data set\n",
        "# https://www.kaggle.com/jsmithperera/cassava-inference\n",
        "\n",
        "def get_test_dataset(ordered=False):\n",
        "    dataset = load_dataset(TEST_FILENAMES, labeled=False, ordered=ordered)\n",
        "    dataset = dataset.batch(BATCH_SIZE)\n",
        "    dataset = dataset.prefetch(AUTOTUNE)\n",
        "    return dataset\n",
        "\n",
        "def get_training_dataset():\n",
        "    dataset = load_dataset(training_filenames, labeled=True)\n",
        "    dataset = dataset.map(data_augment, num_parallel_calls=AUTOTUNE)\n",
        "    dataset = dataset.repeat()\n",
        "    dataset = dataset.shuffle(2048)\n",
        "    dataset = dataset.batch(BATCH_SIZE)\n",
        "    dataset = dataset.prefetch(AUTOTUNE)\n",
        "    return dataset\n",
        "\n",
        "def get_validation_dataset(ordered=False):\n",
        "    dataset = load_dataset(valid_filenames, labeled=True, ordered=ordered)\n",
        "    dataset = dataset.batch(BATCH_SIZE)\n",
        "    dataset = dataset.cache()\n",
        "    dataset = dataset.prefetch(AUTOTUNE)\n",
        "    return dataset"
      ],
      "execution_count": null,
      "outputs": []
    },
    {
      "cell_type": "code",
      "metadata": {
        "colab": {
          "base_uri": "https://localhost:8080/"
        },
        "id": "JxIibnsPZdgi",
        "outputId": "d3d803ce-e70c-4ea4-ba38-ba419702b80d"
      },
      "source": [
        "def count_data_items(filenames):\n",
        "    n = [int(re.compile(r\"-([0-9]*)\\.\").search(filename).group(1)) for filename in filenames]\n",
        "    return np.sum(n)\n",
        "\n",
        "NUM_TRAINING_IMAGES = count_data_items(training_filenames)\n",
        "NUM_VALIDATION_IMAGES = count_data_items(valid_filenames)\n",
        "\n",
        "print('Dataset: {} training images, {} validation images'.format(\n",
        "    NUM_TRAINING_IMAGES, NUM_VALIDATION_IMAGES))"
      ],
      "execution_count": null,
      "outputs": [
        {
          "output_type": "stream",
          "name": "stdout",
          "text": [
            "Dataset: 16045 training images, 5352 validation images\n"
          ]
        }
      ]
    },
    {
      "cell_type": "code",
      "source": [
        "# Trying to uninstall and reinstall packages to see if that gives me my missing dependencies\n",
        "# AVOID running this for now if the big import block below works\n",
        "\n",
        "# !pip3 uninstall tensorflow\n",
        "# !pip3 install tensorflow"
      ],
      "metadata": {
        "id": "kaMHOv2VZa93"
      },
      "execution_count": null,
      "outputs": []
    },
    {
      "cell_type": "code",
      "source": [
        "# Trying specifically the dependencies\n",
        "# AVOID running this for now if the big import block works\n",
        "\n",
        "# !pip uninstall keras\n",
        "# !pip install keras"
      ],
      "metadata": {
        "id": "zxREcFEQbHlP"
      },
      "execution_count": null,
      "outputs": []
    },
    {
      "cell_type": "code",
      "metadata": {
        "id": "kn6EE6j78Vdw"
      },
      "source": [
        "# import packages for model construction\n",
        "from tensorflow.keras.applications.resnet50 import ResNet50\n",
        "from keras.preprocessing import image\n",
        "\n",
        "# First line below is the original code\n",
        "# from keras.applications.resnet50 import preprocess_input, decode_predictions # Fails here: no keras.applications.resnet50\n",
        "\n",
        "# These are my (failed) attempts to fix the line above\n",
        "# https://stackoverflow.com/questions/54682539/i-am-not-able-to-import-resnet-from-keras-applications-module\n",
        "# from keras.applications.resnet50 import ResNet50\n",
        "# from keras.applications.resnet50 import preprocess_input\n",
        "# import keras.applications.resnet50.preprocess_input\n",
        "\n",
        "# The link below and the line below worked for me\n",
        "# https://github.com/gabrieldemarmiesse/heatmaps/issues/2\n",
        "from keras.applications.imagenet_utils import preprocess_input, decode_predictions\n",
        "\n",
        "from tensorflow.keras.models import load_model\n",
        "from keras.callbacks import LearningRateScheduler\n",
        "from keras.layers import Dense, Dropout, Input, MaxPooling2D, ZeroPadding2D, Conv2D, Flatten\n",
        "from keras.models import Sequential, Model\n",
        "from keras.losses import categorical_crossentropy\n",
        "from keras.optimizers import Adam, SGD\n",
        "\n",
        "# First line below is the original code\n",
        "# from keras.preprocessing.image import img_to_array, load_img, ImageDataGenerator\n",
        "\n",
        "# The links below and the lines below worked for me\n",
        "# https://stackoverflow.com/questions/72334642/importerror-cannot-import-name-img-to-array-from-keras-preprocessing-image\n",
        "# https://www.tensorflow.org/api_docs/python/tf/keras/preprocessing/image/ImageDataGenerator\n",
        "from keras.utils.image_utils import img_to_array, load_img\n",
        "from keras.preprocessing.image import ImageDataGenerator\n",
        "\n",
        "from keras.utils import to_categorical\n",
        "from tensorflow.keras import regularizers\n",
        "from tensorflow.keras.layers import MaxPool2D, AveragePooling2D, GlobalAveragePooling2D, GlobalMaxPooling2D\n",
        "from tensorflow.keras.layers import Activation, BatchNormalization\n",
        "from sklearn.model_selection import train_test_split"
      ],
      "execution_count": null,
      "outputs": []
    },
    {
      "cell_type": "code",
      "metadata": {
        "id": "tNG_e8SobYLS"
      },
      "source": [
        "# more data augmentation\n",
        "data_augmentation = tf.keras.Sequential([\n",
        "  tf.keras.layers.experimental.preprocessing.RandomFlip(\n",
        "      mode='horizontal_and_vertical'),\n",
        "  tf.keras.layers.experimental.preprocessing.RandomRotation(\n",
        "      factor=(-0.125,0.125)),\n",
        "])"
      ],
      "execution_count": null,
      "outputs": []
    },
    {
      "cell_type": "code",
      "metadata": {
        "id": "QfEToHSHcUgT"
      },
      "source": [
        "# early stopping condition\n",
        "callback = tf.keras.callbacks.EarlyStopping(monitor='val_loss', patience=10,\n",
        "                                            restore_best_weights=True)"
      ],
      "execution_count": null,
      "outputs": []
    },
    {
      "cell_type": "code",
      "source": [
        "# This function builds a model using transfer learning with ResNet50 as the base\n",
        "# model and adds additional layers on top of it for classification. It starts by\n",
        "# defining the input shape and creating an input layer using tf.keras.Input().\n",
        "# It then applies data augmentation to the input layer using the\n",
        "# data_augmentation() function defined earlier.\n",
        "\n",
        "# The base model is loaded using ResNet50() from the Keras application library\n",
        "# with pre-trained weights on the ImageNet dataset. The include_top parameter is\n",
        "# set to False, meaning that the final fully connected layer of the model\n",
        "# (which is specific to the ImageNet classification task) will not be included.\n",
        "\n",
        "# The augmented input layer is then passed through the base model to obtain the\n",
        "# output of the last convolutional layer. This output is then passed through a\n",
        "# GlobalAveragePooling2D layer to reduce its spatial dimensions. Three fully\n",
        "# connected layers with 512, 128, and 32 units respectively, are added on top of\n",
        "# the pooling layer, each followed by a BatchNormalization layer and a ReLU\n",
        "# activation function.\n",
        "\n",
        "# The final fully connected layer with a softmax activation function is added to\n",
        "# produce the classification output, with the number of units equal to the\n",
        "# number of classes in the dataset.\n",
        "\n",
        "# The Model() function is used to create the final model, taking the input layer\n",
        "# and output layer as arguments. The function returns the complete model.\n"
      ],
      "metadata": {
        "id": "XsYGthu1TEDO"
      },
      "execution_count": null,
      "outputs": []
    },
    {
      "cell_type": "code",
      "metadata": {
        "id": "0fYhBVnxeS14"
      },
      "source": [
        "# function to build model\n",
        "def build_model():\n",
        "\n",
        "  inputshape = (224, 224, 3) # input size\n",
        "  inputs = tf.keras.Input(shape=inputshape)\n",
        "\n",
        "  x = data_augmentation(inputs) # apply data augmentation\n",
        "\n",
        "  base_model = ResNet50(weights = 'imagenet', include_top = False,\n",
        "                        input_shape=inputshape) # load base model\n",
        "\n",
        "  # add layers to base model\n",
        "  x = base_model(x)\n",
        "\n",
        "  # reduce spatial dimensions\n",
        "  model = GlobalAveragePooling2D()(x)\n",
        "\n",
        "  # Three fully connected layers with 512, 128, and 32 units respectively, are\n",
        "  # added on top of the pooling layer, each followed by a BatchNormalization\n",
        "  # layer and a ReLU activation function.\n",
        "  model = Dense(512,activation='relu',kernel_initializer='he_normal',kernel_regularizer=regularizers.l2(0.001))(model)\n",
        "  model = BatchNormalization()(model)\n",
        "  model = Dense(128,activation='relu',kernel_initializer='he_normal',kernel_regularizer=regularizers.l2(0.001))(model)\n",
        "  model = BatchNormalization()(model)\n",
        "  model = Dense(32,activation='relu',kernel_initializer='he_normal',kernel_regularizer=regularizers.l2(0.001))(model)\n",
        "  model = BatchNormalization()(model)\n",
        "\n",
        "  # The final fully connected layer with a softmax activation function is added\n",
        "  # to produce the classification output, with the number of units equal to the\n",
        "  # number of classes in the dataset.\n",
        "  predictions = Dense(len(CLASSES), activation='softmax')(model)\n",
        "\n",
        "  # The Model() function is used to create the final model, taking the input\n",
        "  # layer and output layer as arguments. The function returns the complete model.\n",
        "  model = Model(inputs = inputs, outputs = predictions)\n",
        "  return model\n",
        "\n",
        "model = build_model()"
      ],
      "execution_count": null,
      "outputs": []
    },
    {
      "cell_type": "code",
      "metadata": {
        "colab": {
          "base_uri": "https://localhost:8080/"
        },
        "id": "fDa9P3SHh-k9",
        "outputId": "09adbb46-9cf6-47e3-f8cb-27bd833488bc"
      },
      "source": [
        "model.summary()"
      ],
      "execution_count": null,
      "outputs": [
        {
          "output_type": "stream",
          "name": "stdout",
          "text": [
            "Model: \"model_1\"\n",
            "_________________________________________________________________\n",
            " Layer (type)                Output Shape              Param #   \n",
            "=================================================================\n",
            " input_3 (InputLayer)        [(None, 224, 224, 3)]     0         \n",
            "                                                                 \n",
            " sequential_1 (Sequential)   (None, 224, 224, 3)       0         \n",
            "                                                                 \n",
            " resnet50 (Functional)       (None, 7, 7, 2048)        23587712  \n",
            "                                                                 \n",
            " global_average_pooling2d_1   (None, 2048)             0         \n",
            " (GlobalAveragePooling2D)                                        \n",
            "                                                                 \n",
            " dense_4 (Dense)             (None, 512)               1049088   \n",
            "                                                                 \n",
            " batch_normalization_3 (Batc  (None, 512)              2048      \n",
            " hNormalization)                                                 \n",
            "                                                                 \n",
            " dense_5 (Dense)             (None, 128)               65664     \n",
            "                                                                 \n",
            " batch_normalization_4 (Batc  (None, 128)              512       \n",
            " hNormalization)                                                 \n",
            "                                                                 \n",
            " dense_6 (Dense)             (None, 32)                4128      \n",
            "                                                                 \n",
            " batch_normalization_5 (Batc  (None, 32)               128       \n",
            " hNormalization)                                                 \n",
            "                                                                 \n",
            " dense_7 (Dense)             (None, 5)                 165       \n",
            "                                                                 \n",
            "=================================================================\n",
            "Total params: 24,709,445\n",
            "Trainable params: 24,654,981\n",
            "Non-trainable params: 54,464\n",
            "_________________________________________________________________\n"
          ]
        }
      ]
    },
    {
      "cell_type": "code",
      "metadata": {
        "id": "cobBGkvikYNY"
      },
      "source": [
        "# compile model\n",
        "model.compile(optimizer=Adam(learning_rate=LR),\n",
        "              loss='sparse_categorical_crossentropy',\n",
        "              metrics=['accuracy'])\n",
        "\n",
        "# Compiling a neural network model using the Adam optimizer with a\n",
        "# specified learning rate (LR), sparse categorical cross-entropy as the loss\n",
        "# function, and accuracy as the evaluation metric.\n",
        "\n",
        "# The Adam optimizer is an algorithm for SGD (stochastic gradient descent) that\n",
        "# is commonly used in deep learning. The learning rate (LR) determines the step\n",
        "# size of the optimizer, and it is typically set to a small value to ensure the\n",
        "# optimization process is stable."
      ],
      "execution_count": null,
      "outputs": []
    },
    {
      "cell_type": "code",
      "metadata": {
        "id": "k7y3Xnw6BjKX"
      },
      "source": [
        "# set hyperparameters\n",
        "STEPS_PER_EPOCH = NUM_TRAINING_IMAGES // BATCH_SIZE\n",
        "VALID_STEPS = NUM_VALIDATION_IMAGES // BATCH_SIZE"
      ],
      "execution_count": null,
      "outputs": []
    },
    {
      "cell_type": "code",
      "metadata": {
        "id": "UvM7O-D9nJ6u"
      },
      "source": [
        "# get training and validation data\n",
        "train_dataset = get_training_dataset()\n",
        "valid_dataset = get_validation_dataset()"
      ],
      "execution_count": null,
      "outputs": []
    },
    {
      "cell_type": "code",
      "metadata": {
        "id": "O1mRc45n-nIK",
        "colab": {
          "base_uri": "https://localhost:8080/"
        },
        "outputId": "d938c5a7-30a5-4c9e-f751-c9e89fd553ad"
      },
      "source": [
        "# train model\n",
        "history = model.fit(train_dataset,\n",
        "                    steps_per_epoch=STEPS_PER_EPOCH,\n",
        "                    epochs=EPOCHS3, # Number of epochs. I'm pretty sure you can literally just substitute a value here\n",
        "                    validation_data=valid_dataset,\n",
        "                    callbacks=[callback]\n",
        "                    )"
      ],
      "execution_count": null,
      "outputs": [
        {
          "output_type": "stream",
          "name": "stdout",
          "text": [
            "Epoch 1/20\n",
            "1002/1002 [==============================] - 269s 239ms/step - loss: 2.3914 - accuracy: 0.6413 - val_loss: 2.5267 - val_accuracy: 0.6179\n",
            "Epoch 2/20\n",
            "1002/1002 [==============================] - 213s 213ms/step - loss: 2.0503 - accuracy: 0.7367 - val_loss: 2.1891 - val_accuracy: 0.6962\n",
            "Epoch 3/20\n",
            "1002/1002 [==============================] - 217s 216ms/step - loss: 1.8634 - accuracy: 0.7563 - val_loss: 1.8350 - val_accuracy: 0.7608\n",
            "Epoch 4/20\n",
            "1002/1002 [==============================] - 217s 217ms/step - loss: 1.6985 - accuracy: 0.7683 - val_loss: 1.7737 - val_accuracy: 0.7298\n",
            "Epoch 5/20\n",
            "1002/1002 [==============================] - 213s 212ms/step - loss: 1.5090 - accuracy: 0.7751 - val_loss: 1.4135 - val_accuracy: 0.8044\n",
            "Epoch 6/20\n",
            "1002/1002 [==============================] - 213s 213ms/step - loss: 1.3442 - accuracy: 0.7806 - val_loss: 1.1921 - val_accuracy: 0.8096\n",
            "Epoch 7/20\n",
            "1002/1002 [==============================] - 213s 212ms/step - loss: 1.1803 - accuracy: 0.7901 - val_loss: 1.1259 - val_accuracy: 0.7872\n",
            "Epoch 8/20\n",
            "1002/1002 [==============================] - 213s 213ms/step - loss: 1.0495 - accuracy: 0.7914 - val_loss: 0.9938 - val_accuracy: 0.8025\n",
            "Epoch 9/20\n",
            "1002/1002 [==============================] - 217s 217ms/step - loss: 0.9372 - accuracy: 0.7987 - val_loss: 0.8867 - val_accuracy: 0.8064\n",
            "Epoch 10/20\n",
            "1002/1002 [==============================] - 214s 214ms/step - loss: 0.8615 - accuracy: 0.8056 - val_loss: 0.8126 - val_accuracy: 0.8160\n",
            "Epoch 11/20\n",
            "1002/1002 [==============================] - 213s 213ms/step - loss: 0.7905 - accuracy: 0.8081 - val_loss: 0.7870 - val_accuracy: 0.8124\n",
            "Epoch 12/20\n",
            "1002/1002 [==============================] - 213s 213ms/step - loss: 0.7579 - accuracy: 0.8079 - val_loss: 0.7201 - val_accuracy: 0.8167\n",
            "Epoch 13/20\n",
            "1002/1002 [==============================] - 214s 213ms/step - loss: 0.7137 - accuracy: 0.8172 - val_loss: 0.7353 - val_accuracy: 0.8143\n",
            "Epoch 14/20\n",
            "1002/1002 [==============================] - 218s 217ms/step - loss: 0.6828 - accuracy: 0.8176 - val_loss: 0.6423 - val_accuracy: 0.8296\n",
            "Epoch 15/20\n",
            "1002/1002 [==============================] - 213s 212ms/step - loss: 0.6542 - accuracy: 0.8263 - val_loss: 0.6854 - val_accuracy: 0.8027\n",
            "Epoch 16/20\n",
            "1002/1002 [==============================] - 213s 213ms/step - loss: 0.6356 - accuracy: 0.8258 - val_loss: 0.7565 - val_accuracy: 0.7625\n",
            "Epoch 17/20\n",
            "1002/1002 [==============================] - 213s 213ms/step - loss: 0.6119 - accuracy: 0.8323 - val_loss: 0.6666 - val_accuracy: 0.8040\n",
            "Epoch 18/20\n",
            "1002/1002 [==============================] - 214s 213ms/step - loss: 0.6020 - accuracy: 0.8318 - val_loss: 0.7159 - val_accuracy: 0.7943\n",
            "Epoch 19/20\n",
            "1002/1002 [==============================] - 214s 213ms/step - loss: 0.5845 - accuracy: 0.8343 - val_loss: 0.6088 - val_accuracy: 0.8182\n",
            "Epoch 20/20\n",
            "1002/1002 [==============================] - 213s 213ms/step - loss: 0.5674 - accuracy: 0.8358 - val_loss: 0.5903 - val_accuracy: 0.8277\n"
          ]
        }
      ]
    },
    {
      "cell_type": "code",
      "metadata": {
        "id": "AEUoXeJg1mWb",
        "colab": {
          "base_uri": "https://localhost:8080/",
          "height": 477
        },
        "outputId": "8008aabf-ef33-4a7a-fe79-91628c3949d1"
      },
      "source": [
        "# plot results\n",
        "import matplotlib.pyplot as plt\n",
        "\n",
        "# N = 45\n",
        "# N = 5\n",
        "N = 20\n",
        "plt.style.use(\"ggplot\")\n",
        "plt.figure()\n",
        "plt.plot(np.arange(0, N), history.history[\"accuracy\"], label=\"Train Accuracy\")\n",
        "plt.plot(np.arange(0, N), history.history[\"val_accuracy\"], label=\"Testing Accuracy\")\n",
        "plt.plot(np.arange(0, N), history.history[\"loss\"], label=\"Train Loss\")\n",
        "plt.plot(np.arange(0, N), history.history[\"val_loss\"], label=\"Testing Loss\")\n",
        "plt.title(\"Loss and Accuracy Plot\")\n",
        "plt.xlabel(\"Epoch\")\n",
        "plt.legend(bbox_to_anchor=(1.05, 1.0), loc='upper left')\n",
        "plt.savefig(\"midterm_plot.png\")"
      ],
      "execution_count": null,
      "outputs": [
        {
          "output_type": "display_data",
          "data": {
            "text/plain": [
              "<Figure size 640x480 with 1 Axes>"
            ],
            "image/png": "[encoded data removed]"
          },
          "metadata": {}
        }
      ]
    },
    {
      "cell_type": "code",
      "metadata": {
        "colab": {
          "base_uri": "https://localhost:8080/"
        },
        "id": "IHbwUThVspGV",
        "outputId": "7e1db79f-d3c0-4f32-cb33-e7682680e5ba"
      },
      "source": [
        "# save model\n",
        "# https://colab.research.google.com/github/tensorflow/examples/blob/master/courses/udacity_intro_to_tensorflow_for_deep_learning/l07c01_saving_and_loading_models.ipynb#scrollTo=OGNpmn43C0O6\n",
        "\n",
        "import time\n",
        "t = time.time()\n",
        "\n",
        "export_path_keras = \"./{}.h5\".format(int(t))\n",
        "print(export_path_keras)\n",
        "\n",
        "model.save(export_path_keras)\n",
        "\n",
        "export_path_sm = \"./{}\".format(int(t))\n",
        "print(export_path_sm)\n",
        "\n",
        "tf.saved_model.save(model, export_path_sm)"
      ],
      "execution_count": null,
      "outputs": [
        {
          "output_type": "stream",
          "name": "stdout",
          "text": [
            "./1682800848.h5\n",
            "./1682800848\n"
          ]
        },
        {
          "output_type": "stream",
          "name": "stderr",
          "text": [
            "WARNING:absl:Found untraced functions such as _jit_compiled_convolution_op, _jit_compiled_convolution_op, _jit_compiled_convolution_op, _jit_compiled_convolution_op, _jit_compiled_convolution_op while saving (showing 5 of 53). These functions will not be directly callable after loading.\n"
          ]
        }
      ]
    },
    {
      "cell_type": "code",
      "metadata": {
        "id": "k8gvOT7MvE1W",
        "colab": {
          "base_uri": "https://localhost:8080/",
          "height": 156
        },
        "outputId": "5e19d7d4-0cf4-4c92-c11e-91d2bca7a13b"
      },
      "source": [
        "# download model to computer\n",
        "\n",
        "!zip -r model.zip {export_path_sm}\n",
        "\n",
        "try:\n",
        "  from google.colab import files\n",
        "  files.download('./model.zip')\n",
        "except ImportError:\n",
        "  pass"
      ],
      "execution_count": null,
      "outputs": [
        {
          "output_type": "stream",
          "name": "stdout",
          "text": [
            "  adding: 1682637674/ (stored 0%)\n",
            "  adding: 1682637674/variables/ (stored 0%)\n",
            "  adding: 1682637674/variables/variables.data-00000-of-00001 (deflated 8%)\n",
            "  adding: 1682637674/variables/variables.index (deflated 80%)\n",
            "  adding: 1682637674/saved_model.pb (deflated 91%)\n",
            "  adding: 1682637674/assets/ (stored 0%)\n",
            "  adding: 1682637674/fingerprint.pb (stored 0%)\n"
          ]
        },
        {
          "output_type": "display_data",
          "data": {
            "text/plain": [
              "<IPython.core.display.Javascript object>"
            ],
            "application/javascript": [
              "\n",
              "    async function download(id, filename, size) {\n",
              "      if (!google.colab.kernel.accessAllowed) {\n",
              "        return;\n",
              "      }\n",
              "      const div = document.createElement('div');\n",
              "      const label = document.createElement('label');\n",
              "      label.textContent = `Downloading \"${filename}\": `;\n",
              "      div.appendChild(label);\n",
              "      const progress = document.createElement('progress');\n",
              "      progress.max = size;\n",
              "      div.appendChild(progress);\n",
              "      document.body.appendChild(div);\n",
              "\n",
              "      const buffers = [];\n",
              "      let downloaded = 0;\n",
              "\n",
              "      const channel = await google.colab.kernel.comms.open(id);\n",
              "      // Send a message to notify the kernel that we're ready.\n",
              "      channel.send({})\n",
              "\n",
              "      for await (const message of channel.messages) {\n",
              "        // Send a message to notify the kernel that we're ready.\n",
              "        channel.send({})\n",
              "        if (message.buffers) {\n",
              "          for (const buffer of message.buffers) {\n",
              "            buffers.push(buffer);\n",
              "            downloaded += buffer.byteLength;\n",
              "            progress.value = downloaded;\n",
              "          }\n",
              "        }\n",
              "      }\n",
              "      const blob = new Blob(buffers, {type: 'application/binary'});\n",
              "      const a = document.createElement('a');\n",
              "      a.href = window.URL.createObjectURL(blob);\n",
              "      a.download = filename;\n",
              "      div.appendChild(a);\n",
              "      a.click();\n",
              "      div.remove();\n",
              "    }\n",
              "  "
            ]
          },
          "metadata": {}
        },
        {
          "output_type": "display_data",
          "data": {
            "text/plain": [
              "<IPython.core.display.Javascript object>"
            ],
            "application/javascript": [
              "download(\"download_08974601-7db9-4b95-8073-6314c81f88c9\", \"model.zip\", 543470102)"
            ]
          },
          "metadata": {}
        }
      ]
    }
  ]
}